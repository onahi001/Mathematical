{
  "cells": [
    {
      "cell_type": "markdown",
      "source": [
        "#  SOLVING SYSTEM OF EQUATIONS\n",
        "\n",
        "Below are the necessary functions to perform Gauss Elimination depending on your data source. please execute the functions in the cells below\n",
        "\n",
        "\n",
        "\n",
        "*   **collect_data ()**        : to input data from keyboard and returns two matrices\n",
        "*   **collect_df_data ()**     : to collect data from excel or csv\n",
        "*   **collect_text_file ()**   : to collect data from a file\n",
        "\n",
        "\n",
        "*\n",
        "\n",
        "\n",
        "\n",
        "1.   **gauss_elimination (eqn, const)** : to carry out gauss elimination on n - matrices\n",
        "\n",
        "2.   **gauss_jordan_elimination (eqn, const)** : to carry out gauss-jordan elimination on n x n - matrices\n",
        "\n",
        "3.   **LU_decomp_crout_operation (eqn_test, const):** to carry out LU decomposition on n x n - matrices\n",
        "4.    **matrix_inv ():**  to carry out matrix inverse on n x n - matrices\n",
        "\n",
        "\n",
        "\n",
        "\n",
        "*   testing data can be found below. uncomment and pass it as an argument\n",
        "\n",
        "\n",
        "\n"
      ],
      "metadata": {
        "id": "GFNwrFK3pP8B"
      }
    },
    {
      "cell_type": "code",
      "execution_count": null,
      "metadata": {
        "id": "5uP2Wp6uAsvL"
      },
      "outputs": [],
      "source": [
        "# importing necessary libaries\n",
        "\n",
        "import pandas as pd\n",
        "import numpy as np\n",
        "\n",
        "\n",
        "# ANSI codes for colors\n",
        "class Color:\n",
        "    RESET = \"\\033[0m\"\n",
        "    RED = \"\\033[91m\"\n",
        "    GREEN = \"\\033[92m\"\n",
        "    YELLOW = \"\\033[93m\"\n",
        "    BLUE = \"\\033[94m\"\n",
        "    PURPLE = \"\\033[95m\"\n",
        "    CYAN = \"\\033[96m\"\n",
        "    WHITE = \"\\033[97m\""
      ]
    },
    {
      "cell_type": "code",
      "execution_count": null,
      "metadata": {
        "id": "ZSoFIimABpzp"
      },
      "outputs": [],
      "source": [
        "# program to calculate the solution of n linear system of equations using gauss elimination method\n",
        "\n",
        "# function to receive equation input from users\n",
        "# the constant is in the format \"x_1, x_2, .....x_n\"\n",
        "\n",
        "def collect_data ():\n",
        "  while True:\n",
        "    try:\n",
        "      row = int(input(\"Enter the number of Equations: \\n (ensure that the number of equations is equal to number of variables)\"))\n",
        "      break\n",
        "    except:\n",
        "      print(Color.RED + \"ERROR:Enter a valid number: \" + Color.RESET)\n",
        "  eqn = []\n",
        "  for a in range(row):\n",
        "    while True:\n",
        "      try:\n",
        "        while True:\n",
        "          row_eqn = [float(x) for x in input(f\"Enter Equation values for row {a+1} separated by space: \").split()]\n",
        "          if len (row_eqn) == row:\n",
        "            break\n",
        "          else:\n",
        "            print(Color.RED + f\"Missing values present /n Enter {row} values for each row: \" + Color.RESET)\n",
        "        eqn.append(row_eqn)\n",
        "        break\n",
        "      except:\n",
        "        print(Color.RED + \"ERROR: Enter valid numbers separated by space: \" + Color.RESET)\n",
        "  while True:\n",
        "    try:\n",
        "      const = [float(y) for y in input(f\"\\n Enter Constant values separated by space: \").split()]\n",
        "      break\n",
        "    except:\n",
        "      print(Color.RED + \"ERROR: Enter valid numbers separated by space: \" + Color.RESET)\n",
        "\n",
        "  eqn = np.array(eqn)\n",
        "  const = np.array(const)\n",
        "  return eqn, const\n",
        "\n",
        "\n",
        "# function to collect data from excel and csv files\n",
        "def collect_df_data (file_path, sheet_name=None, header = None):\n",
        "    \"\"\"\n",
        "    Read matrices from Excel and CSV files.\n",
        "\n",
        "    Parameters:\n",
        "    - file_path: The path to the file (Excel or CSV) containing matrices.\n",
        "    - sheet_name: (Only for Excel) The name of the sheet to read. If None, reads the first sheet.\n",
        "\n",
        "    Returns:\n",
        "    - A list of matrices represented as NumPy arrays.\n",
        "    \"\"\"\n",
        "    if file_path.endswith(\".xlsx\") or file_path.endswith(\".xls\"):\n",
        "        # Read Excel file\n",
        "        try:\n",
        "            df = pd.read_excel(file_path, sheet_name=sheet_name, header=header)\n",
        "        except Exception as e:\n",
        "            print(f\"Error reading Excel file: {e}\")\n",
        "            return None\n",
        "    elif file_path.endswith(\".csv\"):\n",
        "        # Read CSV file\n",
        "        try:\n",
        "            df = pd.read_csv(file_path, header=None)\n",
        "        except Exception as e:\n",
        "            print(f\"Error reading CSV file: {e}\")\n",
        "            return None\n",
        "    else:\n",
        "        print(\"Unsupported file format. Supported formats: Excel (.xlsx, .xls), CSV (.csv)\")\n",
        "        return None\n",
        "\n",
        "    # Convert DataFrame to NumPy array\n",
        "    try:\n",
        "        ar_eqn = [df.to_numpy()]\n",
        "    except Exception as e:\n",
        "        print(f\"Error converting DataFrame to NumPy array: {e}\")\n",
        "        return None\n",
        "\n",
        "    return ar_eqn\n",
        "\n",
        "# function to collect the matrix data from a file\n",
        "def collect_text_file ():\n",
        "  file_name = input(\"Enter file name: \\n include file path if different from python file: \")\n",
        "\n",
        "  # reading the content of the text file and creating a matrix\n",
        "  with open(filename, \"r\") as file:\n",
        "    ar_eqn = [list(map(int, line.split())) for line in file.readlines()]\n",
        "  # carry out gauss elimination\n",
        "  return ar_eqn\n",
        "\n",
        "\n",
        "def gauss_elimination (eqn, const):\n",
        "  # augmenting the matrices\n",
        "  ar_eqn = np.column_stack((eqn, const))\n",
        "\n",
        "  # creating array for solution\n",
        "  no_row, no_col = np.shape(ar_eqn)\n",
        "  soln = np.zeros(no_row)\n",
        "  L = np.zeros((no_row, no_col))\n",
        "\n",
        "  # checking data and carrying out neccessary pivoting\n",
        "  for m in range(0, no_row-1):\n",
        "    if ar_eqn[m, m] == 0:\n",
        "      for k in range(m+1, no_col):\n",
        "        if ar_eqn[k, m] != 0:\n",
        "          m_temp = ar_eqn[m].copy()\n",
        "          ar_eqn[m] = ar_eqn[k]\n",
        "          ar_eqn[k] = m_temp\n",
        "          #print(ar_eqn)\n",
        "          break\n",
        "\n",
        "\n",
        "    # carrying out forward elimination\n",
        "    for n in range (m+1, no_row):\n",
        "      mul = ar_eqn[n][m] / ar_eqn[m][m]\n",
        "      L[n, m] = mul\n",
        "      for k in range(no_col):\n",
        "        ar_eqn[n][k] = ar_eqn[n][k] - mul * ar_eqn[m][k]\n",
        "\n",
        "  # carrying out backward substitution\n",
        "  soln[-1] = ar_eqn[-1][-1]/ar_eqn[-1][-2]\n",
        "  for i in range(no_row-2, -1, -1):\n",
        "    var = ar_eqn[i][-1]\n",
        "    for j in range(i+1, no_row):\n",
        "      var -= ar_eqn[i][j]*soln[j]\n",
        "    soln[i] = var /ar_eqn[i][i]\n",
        "\n",
        "  # printing the values of variables\n",
        "  for s in range(no_row):\n",
        "    print(\"x_%d = %0.4f\" %(s+1, soln[s]), end = \"\\t\")\n",
        "\n",
        "  print(L)\n",
        "  print(\"\\n \\n\")\n",
        "  print(ar_eqn)\n",
        "  return soln\n",
        "\n",
        "\n",
        "def gauss_jordan_elimination (eqn, const):\n",
        "  # augmenting the matrices\n",
        "  ar_eqn = np.column_stack((eqn, const))\n",
        "\n",
        "  # creating solution and iteration variable\n",
        "  no_row, no_col = np.shape(aug_eqn)\n",
        "  soln = np.zeros(no_row)\n",
        "\n",
        "\n",
        "  # checking and pivoting elements where necessary\n",
        "  for i in range(no_row):\n",
        "    if aug_eqn[i][i] == 0:\n",
        "      for k in range(i+1, no_col):\n",
        "        if aug_eqn[k][i] != 0:\n",
        "          temp = aug_eqn[i].copy()\n",
        "          aug_eqn[i] = aug_eqn[k]\n",
        "          aug_eqn[k] = temp\n",
        "          break\n",
        "\n",
        "    # carrying out gauss_jordan elimination\n",
        "    aug_eqn[i] = aug_eqn[i]/aug_eqn[i][i]\n",
        "    for j in range (no_row):\n",
        "      if i != j:\n",
        "        mul = aug_eqn[j][i]/aug_eqn[i][i]\n",
        "        aug_eqn[j] = aug_eqn[j] - aug_eqn[i] * mul\n",
        "\n",
        "\n",
        "    # getting the solution\n",
        "  soln = aug_eqn[:, -1]\n",
        "\n",
        "    # printing and returning solution\n",
        "  for s in range(no_row):\n",
        "    print(\"x_%d = %0.4f\" %(s+1, soln[s]), end = \"\\t\")\n",
        "  return soln"
      ]
    },
    {
      "cell_type": "code",
      "source": [
        "# program to carryout LU decomposition with pivoting on matrices\n",
        "\n",
        "def LU_decomp_crout (a_eqn):\n",
        "  no_row, no_col = np.shape(a_eqn)\n",
        "  L = np.zeros((no_row, no_col))\n",
        "  U = np.zeros((no_row, no_col))\n",
        "\n",
        "  # carrying out pivoting\n",
        "  p = np.zeros((no_row, no_col))\n",
        "  for i in range (no_row):\n",
        "    p[i, i] = 1\n",
        "\n",
        "  for m in range(0, no_row-1):\n",
        "    if a_eqn[m, m] == 0:\n",
        "      for k in range(m+1, no_col):\n",
        "        if a_eqn[k, m] != 0:\n",
        "          m_temp = a_eqn[m].copy()\n",
        "          a_eqn[m] = a_eqn[k]\n",
        "          a_eqn[k] = m_temp\n",
        "          p_temp = p[m].copy()\n",
        "          p[m] = p[k]\n",
        "          p[k] = p_temp\n",
        "          break\n",
        "\n",
        "  #getting the first row of the L column\n",
        "  for i in range(no_row):\n",
        "    L[i, 0] = a_eqn[i, 0]\n",
        "\n",
        "  # putting the diagonal of U\n",
        "  for j in range (no_row):\n",
        "    U[j, j] = 1\n",
        "\n",
        "  # calculating the first row of matrix U\n",
        "  for a in range (1, no_col):\n",
        "    U[0, a] = a_eqn[0, a] / L[0, 0]\n",
        "\n",
        "  # calculating the other rows of matrix L and U\n",
        "  for i in range (1, no_row):\n",
        "    for j in range (1, i+1):\n",
        "      L[i, j] = a_eqn[i, j] -np.sum(L[i, :j] * U[:j, j])\n",
        "\n",
        "    for j in range (i + 1, no_row):\n",
        "      U[i, j] = (a_eqn[i, j] - np.sum(L[i, :i] * U[:i, j]))/L[i, i]\n",
        "\n",
        "  return L, U, p\n",
        "\n",
        "# carrying forward substitution on the matrix\n",
        "def forwardsub (L, p, const):\n",
        "  no_row, no_col = np.shape(L)\n",
        "  const = np.dot (p, const)\n",
        "  soln = np.zeros(no_row)\n",
        "  soln[0] = const[0]/L[0][0]\n",
        "\n",
        "  for i in range (1, no_row):\n",
        "    var = 0\n",
        "    for j in range (0, i):\n",
        "      var = var + L[i][j] * soln[j]\n",
        "    soln[i] = (const[i] - var) / L[i][i]\n",
        "  return soln\n",
        "\n",
        "# carrying out backward substitution on the matrix\n",
        "def backwardsub (U, L_soln):\n",
        "  no_row, no_col = np.shape(U)\n",
        "  soln = np.zeros(no_row)\n",
        "  soln[-1] = L_soln[-1]\n",
        "\n",
        "  for i in range (no_row-2, -1, -1):\n",
        "    var = 0\n",
        "    for j in range (i+1, no_row):\n",
        "      var += U[i][j]*soln[j]\n",
        "    soln[i] = L_soln[i] - var\n",
        "  return soln\n",
        "\n",
        "# carrying out the LU Decomposition procedure to find the solution to the matrix\n",
        "def LU_decomp_crout_operation (eqn_test, const):\n",
        "  L, U, p= LU_decomp_crout (eqn_test)\n",
        "  L_soln = forwardsub (L, p, const)\n",
        "  soln = backwardsub (U, L_soln)\n",
        "\n",
        "  for a in range(len(soln)):\n",
        "    print(\"x_%d = %0.4f\" %(a+1, soln[a]))\n",
        "\n",
        "  return soln\n"
      ],
      "metadata": {
        "id": "7t7pY9awWNux"
      },
      "execution_count": null,
      "outputs": []
    },
    {
      "cell_type": "code",
      "source": [
        "# program to find the inverse of the matrix\n",
        "\n",
        "def matrix_inv (eqn):\n",
        "  eqn = np.array(eqn)\n",
        "  no_row, no_col = np.shape(eqn)\n",
        "\n",
        "  # checking that the matrix is square and creating null matrices\n",
        "  while True:\n",
        "    try:\n",
        "      if no_row == no_col:\n",
        "        I = np.zeros ((no_row, no_col))\n",
        "        inv = np.zeros((no_row, no_col))\n",
        "        break\n",
        "      else:\n",
        "        print (\"Enter a valid matrix with equal rows and columns\")\n",
        "        break\n",
        "        sys.exit ()\n",
        "    except:\n",
        "      print (\"check the inputs of the matrix\")\n",
        "\n",
        "  # creating an identity matrix\n",
        "  for a in range (no_row):\n",
        "    I[a, a] = 1\n",
        "\n",
        "  # carryout LU decomposition with pivoting\n",
        "  L, U, p = LU_decomp_crout (eqn)\n",
        "\n",
        "  for i in range (no_row):\n",
        "    I_col = I[:, i]\n",
        "    L_soln = forwardsub (L, p, I_col)\n",
        "    inv_row = backwardsub (U, L_soln)\n",
        "    inv[:, i] = inv_row\n",
        "\n",
        "  return inv\n",
        "\n",
        "\n"
      ],
      "metadata": {
        "id": "odqYbX8vuqR_"
      },
      "execution_count": null,
      "outputs": []
    },
    {
      "cell_type": "code",
      "execution_count": null,
      "metadata": {
        "id": "gled1EZcYj3K",
        "colab": {
          "base_uri": "https://localhost:8080/"
        },
        "outputId": "1fc970ec-8c02-4711-cf00-7d1043659aad"
      },
      "outputs": [
        {
          "output_type": "execute_result",
          "data": {
            "text/plain": [
              "array([[-0.41663958, -1.        , -0.        , -0.        , -0.        ,\n",
              "        -0.        , -0.        , -0.        ],\n",
              "       [ 1.08330625,  0.        ,  0.        ,  0.        ,  0.        ,\n",
              "         0.        ,  0.        ,  0.        ],\n",
              "       [-0.53353769, -1.2805737 , -0.        , -1.2805737 , -0.        ,\n",
              "        -0.        , -0.        , -0.        ],\n",
              "       [-0.333301  , -0.79997439, -0.        , -0.79997439, -0.        ,\n",
              "        -0.        , -1.        , -0.        ],\n",
              "       [ 0.2777732 ,  0.666699  , -0.        ,  0.666699  , -1.        ,\n",
              "        -0.41663958, -0.        , -0.        ],\n",
              "       [ 0.7222392 , -0.86661726, -0.        , -0.86661726, -0.        ,\n",
              "        -1.08330625, -0.        , -0.        ],\n",
              "       [-0.32393376, -0.77749155,  1.16618076, -0.77749155,  1.16618076,\n",
              "         0.48587707,  0.        ,  0.        ],\n",
              "       [-0.16663708, -0.39995499, -0.6       , -0.39995499, -0.6       ,\n",
              "        -0.24998375, -1.        , -1.        ]])"
            ]
          },
          "metadata": {},
          "execution_count": 31
        }
      ],
      "source": [
        "\n",
        "eqn = [\n",
        "    [0, 0.9231, 0, 0, 0, 0, 0, 0],\n",
        "    [-1, -0.3846, 0, 0, 0, 0, 0, 0],\n",
        "    [0, 0, 0, 0, 1, 0, 0.8575, 0],\n",
        "    [1, 0, -0.7809, 0, 0, 0, 0, 0],\n",
        "    [0, -0.3846, -0.7809, 0, -1, 0.3846, 0, 0],\n",
        "    [0, 0.9231, 0.6247, 0, 0, -0.9231, 0, 0],\n",
        "    [0, 0, 0.6247, -1, 0, 0, 0, 0],\n",
        "    [0, 0, 0, 1, 0, 0, -0.5145, -1]\n",
        "]\n",
        "\n",
        "const = [1690, 3625, 0, 0, 0, 0, 0, 0]\n",
        "#test = np.column_stack((eqn, const))\n",
        "\n",
        "matrix_inv (eqn)"
      ]
    },
    {
      "cell_type": "code",
      "source": [
        "eqn = [\n",
        "    [4, -2, -3, 6],\n",
        "    [-6, 7, 6.5, -6],\n",
        "    [1, 7.5, 6.25, 5.5],\n",
        "    [-12, 22, 15.5, -1]\n",
        "]\n",
        "eqn_test = np.array(eqn)\n",
        "\n",
        "const = [12, -6.5, 16, 17]\n",
        "const = np.array(const)\n",
        "\n",
        "\n",
        "gauss_elimination (eqn_test, const)"
      ],
      "metadata": {
        "colab": {
          "base_uri": "https://localhost:8080/"
        },
        "id": "9olmod_WLNNY",
        "outputId": "a9f59e6b-2e82-46f5-a898-266accb188a7"
      },
      "execution_count": null,
      "outputs": [
        {
          "output_type": "stream",
          "name": "stdout",
          "text": [
            "x_1 = 2.0000\tx_2 = 4.0000\tx_3 = -3.0000\tx_4 = 0.5000\t[[ 0.    0.    0.    0.    0.  ]\n",
            " [-1.5   0.    0.    0.    0.  ]\n",
            " [ 0.25  2.    0.    0.    0.  ]\n",
            " [-3.    4.   -0.5   0.    0.  ]]\n",
            "\n",
            " \n",
            "\n",
            "[[  4.   -2.   -3.    6.   12. ]\n",
            " [  0.    4.    2.    3.   11.5]\n",
            " [  0.    0.    3.   -2.  -10. ]\n",
            " [  0.    0.    0.    4.    2. ]]\n"
          ]
        },
        {
          "output_type": "execute_result",
          "data": {
            "text/plain": [
              "array([ 2. ,  4. , -3. ,  0.5])"
            ]
          },
          "metadata": {},
          "execution_count": 20
        }
      ]
    },
    {
      "cell_type": "code",
      "source": [
        "eqn = [\n",
        "    [0, 0.9231, 0, 0, 0, 0, 0, 0],\n",
        "    [-1, -0.3846, 0, 0, 0, 0, 0, 0],\n",
        "    [0, 0, 0, 0, 1, 0, 0.8575, 0],\n",
        "    [1, 0, -0.7809, 0, 0, 0, 0, 0],\n",
        "    [0, -0.3846, -0.7809, 0, -1, 0.3846, 0, 0],\n",
        "    [0, 0.9231, 0.6247, 0, 0, -0.9231, 0, 0],\n",
        "    [0, 0, 0.6247, -1, 0, 0, 0, 0],\n",
        "    [0, 0, 0, 1, 0, 0, -0.5145, -1]\n",
        "]\n",
        "\n",
        "const = [1690, 3625, 0, 0, 0, 0, 0, 0]\n",
        "test = np.array(eqn)\n",
        "LU_decomp_crout_operation (test)"
      ],
      "metadata": {
        "id": "WH0e7vvDdbzt"
      },
      "execution_count": null,
      "outputs": []
    },
    {
      "cell_type": "code",
      "source": [
        "eqn, const = collect_data()\n",
        "LU_decomp_crout_operation (eqn, const)"
      ],
      "metadata": {
        "colab": {
          "base_uri": "https://localhost:8080/",
          "height": 535
        },
        "id": "FlxJZ7XOErlA",
        "outputId": "23c0f528-49b3-428e-b7e1-374e028dab2f"
      },
      "execution_count": null,
      "outputs": [
        {
          "name": "stdout",
          "output_type": "stream",
          "text": [
            "Enter the number of Equations: \n",
            " (ensure that the number of equations is equal to number of variables)4\n",
            "Enter Equation values for row 1 separated by space: 9 -4 -2 0\n",
            "Enter Equation values for row 2 separated by space: -4 17 -6 -3\n",
            "Enter Equation values for row 3 separated by space: -2 -6 14\n",
            "Enter Equation values for row 4 separated by space: 0 -3 -6 11\n",
            "\n",
            " Enter Constant values separated by space: 24 -16 \n"
          ]
        },
        {
          "output_type": "stream",
          "name": "stderr",
          "text": [
            "<ipython-input-7-0fdde1389c87>:29: VisibleDeprecationWarning: Creating an ndarray from ragged nested sequences (which is a list-or-tuple of lists-or-tuples-or ndarrays with different lengths or shapes) is deprecated. If you meant to do this, you must specify 'dtype=object' when creating the ndarray.\n",
            "  eqn = np.array(eqn)\n"
          ]
        },
        {
          "output_type": "error",
          "ename": "ValueError",
          "evalue": "ignored",
          "traceback": [
            "\u001b[0;31m---------------------------------------------------------------------------\u001b[0m",
            "\u001b[0;31mValueError\u001b[0m                                Traceback (most recent call last)",
            "\u001b[0;32m<ipython-input-15-4acbe6c3ea63>\u001b[0m in \u001b[0;36m<cell line: 2>\u001b[0;34m()\u001b[0m\n\u001b[1;32m      1\u001b[0m \u001b[0meqn\u001b[0m\u001b[0;34m,\u001b[0m \u001b[0mconst\u001b[0m \u001b[0;34m=\u001b[0m \u001b[0mcollect_data\u001b[0m\u001b[0;34m(\u001b[0m\u001b[0;34m)\u001b[0m\u001b[0;34m\u001b[0m\u001b[0;34m\u001b[0m\u001b[0m\n\u001b[0;32m----> 2\u001b[0;31m \u001b[0mLU_decomp_crout_operation\u001b[0m \u001b[0;34m(\u001b[0m\u001b[0meqn\u001b[0m\u001b[0;34m,\u001b[0m \u001b[0mconst\u001b[0m\u001b[0;34m)\u001b[0m\u001b[0;34m\u001b[0m\u001b[0;34m\u001b[0m\u001b[0m\n\u001b[0m",
            "\u001b[0;32m<ipython-input-12-9b63a9fc6da3>\u001b[0m in \u001b[0;36mLU_decomp_crout_operation\u001b[0;34m(eqn_test, const)\u001b[0m\n\u001b[1;32m     74\u001b[0m \u001b[0;31m# carrying out the LU Decomposition procedure to find the solution to the matrix\u001b[0m\u001b[0;34m\u001b[0m\u001b[0;34m\u001b[0m\u001b[0m\n\u001b[1;32m     75\u001b[0m \u001b[0;32mdef\u001b[0m \u001b[0mLU_decomp_crout_operation\u001b[0m \u001b[0;34m(\u001b[0m\u001b[0meqn_test\u001b[0m\u001b[0;34m,\u001b[0m \u001b[0mconst\u001b[0m\u001b[0;34m)\u001b[0m\u001b[0;34m:\u001b[0m\u001b[0;34m\u001b[0m\u001b[0;34m\u001b[0m\u001b[0m\n\u001b[0;32m---> 76\u001b[0;31m   \u001b[0mL\u001b[0m\u001b[0;34m,\u001b[0m \u001b[0mU\u001b[0m\u001b[0;34m,\u001b[0m \u001b[0mp\u001b[0m\u001b[0;34m=\u001b[0m \u001b[0mLU_decomp_crout\u001b[0m \u001b[0;34m(\u001b[0m\u001b[0meqn_test\u001b[0m\u001b[0;34m)\u001b[0m\u001b[0;34m\u001b[0m\u001b[0;34m\u001b[0m\u001b[0m\n\u001b[0m\u001b[1;32m     77\u001b[0m   \u001b[0mL_soln\u001b[0m \u001b[0;34m=\u001b[0m \u001b[0mforwardsub\u001b[0m \u001b[0;34m(\u001b[0m\u001b[0mL\u001b[0m\u001b[0;34m,\u001b[0m \u001b[0mp\u001b[0m\u001b[0;34m,\u001b[0m \u001b[0mconst\u001b[0m\u001b[0;34m)\u001b[0m\u001b[0;34m\u001b[0m\u001b[0;34m\u001b[0m\u001b[0m\n\u001b[1;32m     78\u001b[0m   \u001b[0msoln\u001b[0m \u001b[0;34m=\u001b[0m \u001b[0mbackwardsub\u001b[0m \u001b[0;34m(\u001b[0m\u001b[0mU\u001b[0m\u001b[0;34m,\u001b[0m \u001b[0mL_soln\u001b[0m\u001b[0;34m)\u001b[0m\u001b[0;34m\u001b[0m\u001b[0;34m\u001b[0m\u001b[0m\n",
            "\u001b[0;32m<ipython-input-12-9b63a9fc6da3>\u001b[0m in \u001b[0;36mLU_decomp_crout\u001b[0;34m(a_eqn)\u001b[0m\n\u001b[1;32m      2\u001b[0m \u001b[0;34m\u001b[0m\u001b[0m\n\u001b[1;32m      3\u001b[0m \u001b[0;32mdef\u001b[0m \u001b[0mLU_decomp_crout\u001b[0m \u001b[0;34m(\u001b[0m\u001b[0ma_eqn\u001b[0m\u001b[0;34m)\u001b[0m\u001b[0;34m:\u001b[0m\u001b[0;34m\u001b[0m\u001b[0;34m\u001b[0m\u001b[0m\n\u001b[0;32m----> 4\u001b[0;31m   \u001b[0mno_row\u001b[0m\u001b[0;34m,\u001b[0m \u001b[0mno_col\u001b[0m \u001b[0;34m=\u001b[0m \u001b[0mnp\u001b[0m\u001b[0;34m.\u001b[0m\u001b[0mshape\u001b[0m\u001b[0;34m(\u001b[0m\u001b[0ma_eqn\u001b[0m\u001b[0;34m)\u001b[0m\u001b[0;34m\u001b[0m\u001b[0;34m\u001b[0m\u001b[0m\n\u001b[0m\u001b[1;32m      5\u001b[0m   \u001b[0mL\u001b[0m \u001b[0;34m=\u001b[0m \u001b[0mnp\u001b[0m\u001b[0;34m.\u001b[0m\u001b[0mzeros\u001b[0m\u001b[0;34m(\u001b[0m\u001b[0;34m(\u001b[0m\u001b[0mno_row\u001b[0m\u001b[0;34m,\u001b[0m \u001b[0mno_col\u001b[0m\u001b[0;34m)\u001b[0m\u001b[0;34m)\u001b[0m\u001b[0;34m\u001b[0m\u001b[0;34m\u001b[0m\u001b[0m\n\u001b[1;32m      6\u001b[0m   \u001b[0mU\u001b[0m \u001b[0;34m=\u001b[0m \u001b[0mnp\u001b[0m\u001b[0;34m.\u001b[0m\u001b[0mzeros\u001b[0m\u001b[0;34m(\u001b[0m\u001b[0;34m(\u001b[0m\u001b[0mno_row\u001b[0m\u001b[0;34m,\u001b[0m \u001b[0mno_col\u001b[0m\u001b[0;34m)\u001b[0m\u001b[0;34m)\u001b[0m\u001b[0;34m\u001b[0m\u001b[0;34m\u001b[0m\u001b[0m\n",
            "\u001b[0;31mValueError\u001b[0m: not enough values to unpack (expected 2, got 1)"
          ]
        }
      ]
    },
    {
      "cell_type": "code",
      "source": [
        "# equation to test the inverse of a matrix\n",
        "a = [\n",
        "    [0.2, -5, 3, 0.4, 0],\n",
        "    [-0.5, 1, 7, -2, 0.3],\n",
        "    [0.6, 2, -4, 3, 0.1],\n",
        "    [3, 0.8, 2, -0.4, 3],\n",
        "    [0.5, 3, 2, 0.4, 1]\n",
        "]\n",
        "\n",
        "eqn = np.array(a)\n",
        "eqn_inv = matrix_inv(eqn)\n",
        "\n",
        "check = np.dot(eqn, eqn_inv)\n",
        "check"
      ],
      "metadata": {
        "id": "GuyVTvqlinIu",
        "colab": {
          "base_uri": "https://localhost:8080/"
        },
        "outputId": "245e210c-4e4b-4fdf-ce47-a6a6320ed3a5"
      },
      "execution_count": null,
      "outputs": [
        {
          "output_type": "execute_result",
          "data": {
            "text/plain": [
              "array([[ 1.00000000e+00,  3.55271368e-15,  7.10542736e-15,\n",
              "        -5.32690064e-15, -4.44089210e-16],\n",
              "       [-5.55111512e-17,  1.00000000e+00,  2.22044605e-16,\n",
              "        -2.50780169e-16, -5.55111512e-17],\n",
              "       [-2.77555756e-17,  1.66533454e-16,  1.00000000e+00,\n",
              "        -2.53462148e-16, -5.55111512e-17],\n",
              "       [-2.77555756e-17, -1.22124533e-15,  2.22044605e-16,\n",
              "         1.00000000e+00,  0.00000000e+00],\n",
              "       [-4.44089210e-16, -2.66453526e-15,  1.77635684e-15,\n",
              "        -3.92166094e-17,  1.00000000e+00]])"
            ]
          },
          "metadata": {},
          "execution_count": 38
        }
      ]
    },
    {
      "cell_type": "code",
      "source": [
        "eqn_inv"
      ],
      "metadata": {
        "colab": {
          "base_uri": "https://localhost:8080/"
        },
        "id": "1zRIau-u76cI",
        "outputId": "3905f89a-6bab-44c4-fa20-40090fe3fd62"
      },
      "execution_count": null,
      "outputs": [
        {
          "output_type": "execute_result",
          "data": {
            "text/plain": [
              "array([[-0.70794915,  2.53143336,  2.43119586,  0.96657586, -3.90227717],\n",
              "       [-0.19343159,  0.3101425 ,  0.27946587,  0.05771514, -0.29413477],\n",
              "       [ 0.02168902,  0.36546521,  0.28614837,  0.05055532, -0.28992037],\n",
              "       [ 0.27341203, -0.12992456,  0.13161265, -0.14101355,  0.44885676],\n",
              "       [ 0.7815265 , -2.87510478, -2.67893732, -0.70113859,  4.23384092]])"
            ]
          },
          "metadata": {},
          "execution_count": 35
        }
      ]
    },
    {
      "cell_type": "code",
      "source": [
        "eqn * eqn_inv"
      ],
      "metadata": {
        "colab": {
          "base_uri": "https://localhost:8080/"
        },
        "id": "R0ymJmQQ8QEt",
        "outputId": "c8ed8405-f685-4036-f20d-a5e74997fcee"
      },
      "execution_count": null,
      "outputs": [
        {
          "output_type": "execute_result",
          "data": {
            "text/plain": [
              "array([[ -0.14158983, -12.65716681,   7.29358759,   0.38663034,\n",
              "         -0.        ],\n",
              "       [  0.0967158 ,   0.3101425 ,   1.95626106,  -0.11543029,\n",
              "         -0.08824043],\n",
              "       [  0.01301341,   0.73093043,  -1.14459346,   0.15166597,\n",
              "         -0.02899204],\n",
              "       [  0.8202361 ,  -0.10393965,   0.2632253 ,   0.05640542,\n",
              "          1.34657027],\n",
              "       [  0.39076325,  -8.62531433,  -5.35787464,  -0.28045543,\n",
              "          4.23384092]])"
            ]
          },
          "metadata": {},
          "execution_count": 37
        }
      ]
    },
    {
      "cell_type": "code",
      "source": [
        "9 -4 -2 0\n",
        "-4 17 -6 -3\n",
        "-2 -6 14 -6\n",
        "0 -3 -6 11\n",
        "\n",
        "24 -16 0 18"
      ],
      "metadata": {
        "id": "hGnvyqg2meqc"
      },
      "execution_count": null,
      "outputs": []
    },
    {
      "cell_type": "code",
      "source": [
        "type(eqn)"
      ],
      "metadata": {
        "id": "6dbm9mxq_CDg",
        "colab": {
          "base_uri": "https://localhost:8080/"
        },
        "outputId": "748b056c-4b12-464a-9fc7-f5b64728eca3"
      },
      "execution_count": null,
      "outputs": [
        {
          "output_type": "execute_result",
          "data": {
            "text/plain": [
              "list"
            ]
          },
          "metadata": {},
          "execution_count": 25
        }
      ]
    },
    {
      "cell_type": "code",
      "source": [],
      "metadata": {
        "id": "vWMehUukuYef"
      },
      "execution_count": null,
      "outputs": []
    }
  ],
  "metadata": {
    "colab": {
      "provenance": []
    },
    "kernelspec": {
      "display_name": "Python 3",
      "name": "python3"
    },
    "language_info": {
      "name": "python"
    }
  },
  "nbformat": 4,
  "nbformat_minor": 0
}